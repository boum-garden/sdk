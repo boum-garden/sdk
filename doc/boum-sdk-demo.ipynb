{
 "cells": [
  {
   "cell_type": "markdown",
   "source": [
    "# Boum SDK Demo"
   ],
   "metadata": {
    "collapsed": false
   }
  },
  {
   "cell_type": "markdown",
   "source": [
    "## Setup"
   ],
   "metadata": {
    "collapsed": false
   }
  },
  {
   "cell_type": "code",
   "execution_count": 10,
   "outputs": [],
   "source": [
    "import pandas as pd\n",
    "import logging\n",
    "from datetime import time\n",
    "from pprint import pprint\n",
    "\n",
    "from boum.api_client.constants import API_URL_DEV\n",
    "from boum.api_client.v1.client import ApiClient\n",
    "from boum.resources.device import Device\n",
    "from boum.api_client.v1.models import DeviceStateModel"
   ],
   "metadata": {
    "collapsed": false
   }
  },
  {
   "cell_type": "code",
   "execution_count": 2,
   "outputs": [],
   "source": [
    "# Activate logging output\n",
    "logger = logging.getLogger()\n",
    "logger.setLevel(logging.INFO)"
   ],
   "metadata": {
    "collapsed": false
   }
  },
  {
   "cell_type": "code",
   "execution_count": 3,
   "outputs": [],
   "source": [
    "client =  ApiClient(email='email', password='password', base_url=API_URL_DEV)\n",
    "device = Device('9a8a5e6d-12d5-4997-b9da-0bb446eacb2f', client)"
   ],
   "metadata": {
    "collapsed": false
   }
  },
  {
   "cell_type": "markdown",
   "source": [
    "## Retrieving device information"
   ],
   "metadata": {
    "collapsed": false
   }
  },
  {
   "cell_type": "code",
   "execution_count": 12,
   "outputs": [
    {
     "name": "stderr",
     "output_type": "stream",
     "text": [
      "INFO:root:Calling _post on https://api-dev.boum.us/v1/auth/token...\n",
      "INFO:root:Request successful (201): Access token generated successfully\n",
      "INFO:root:Calling _get on https://api-dev.boum.us/v1/devices...\n",
      "INFO:root:Request successful (200): Device list is retrieved successfully\n",
      "INFO:root:Calling _get on https://api-dev.boum.us/v1/devices/9a8a5e6d-12d5-4997-b9da-0bb446eacb2f...\n",
      "INFO:root:Request successful (200): Device is retrieved successfully\n"
     ]
    },
    {
     "name": "stdout",
     "output_type": "stream",
     "text": [
      "['9a8a5e6d-12d5-4997-b9da-0bb446eacb2f']\n",
      "DeviceStateModel(refill_time=datetime.time(0, 0),\n",
      "                 refill_interval=None,\n",
      "                 max_pump_duration=10,\n",
      "                 pump_state=False)\n",
      "DeviceStateModel(refill_time=datetime.time(2, 53),\n",
      "                 refill_interval=3,\n",
      "                 max_pump_duration=5,\n",
      "                 pump_state=True)\n"
     ]
    }
   ],
   "source": [
    "with client:\n",
    "    device_ids = Device.get_device_ids(client)\n",
    "    reported, desired = device.get_device_states()\n",
    "\n",
    "    pprint(device_ids)\n",
    "    pprint(reported)\n",
    "    pprint(desired)"
   ],
   "metadata": {
    "collapsed": false
   }
  },
  {
   "cell_type": "markdown",
   "source": [
    "## Retreiving telemetry data"
   ],
   "metadata": {
    "collapsed": false
   }
  },
  {
   "cell_type": "code",
   "execution_count": 5,
   "outputs": [
    {
     "name": "stderr",
     "output_type": "stream",
     "text": [
      "INFO:root:Calling _post on https://api-dev.boum.us/v1/auth/token...\n",
      "INFO:root:Request successful (201): Access token generated successfully\n",
      "INFO:root:Calling _get on https://api-dev.boum.us/v1/devices/9a8a5e6d-12d5-4997-b9da-0bb446eacb2f/data...\n",
      "INFO:root:Request successful (200): Device timeseries data was retrieved successfully\n"
     ]
    }
   ],
   "source": [
    "with client:\n",
    "    data = device.get_telemetry_data()"
   ],
   "metadata": {
    "collapsed": false
   }
  },
  {
   "cell_type": "code",
   "execution_count": 6,
   "outputs": [
    {
     "data": {
      "text/plain": "Empty DataFrame\nColumns: [batteryCapacity, temperature, temperatureEsp, wifiStrength, flowRate, solarVoltage, waterTableRange, inputCurrent, batteryCurrent, batteryVoltage]\nIndex: []",
      "text/html": "<div>\n<style scoped>\n    .dataframe tbody tr th:only-of-type {\n        vertical-align: middle;\n    }\n\n    .dataframe tbody tr th {\n        vertical-align: top;\n    }\n\n    .dataframe thead th {\n        text-align: right;\n    }\n</style>\n<table border=\"1\" class=\"dataframe\">\n  <thead>\n    <tr style=\"text-align: right;\">\n      <th></th>\n      <th>batteryCapacity</th>\n      <th>temperature</th>\n      <th>temperatureEsp</th>\n      <th>wifiStrength</th>\n      <th>flowRate</th>\n      <th>solarVoltage</th>\n      <th>waterTableRange</th>\n      <th>inputCurrent</th>\n      <th>batteryCurrent</th>\n      <th>batteryVoltage</th>\n    </tr>\n  </thead>\n  <tbody>\n  </tbody>\n</table>\n</div>"
     },
     "execution_count": 6,
     "metadata": {},
     "output_type": "execute_result"
    }
   ],
   "source": [
    "df = pd.DataFrame(data)\n",
    "df.head()"
   ],
   "metadata": {
    "collapsed": false
   }
  },
  {
   "cell_type": "markdown",
   "source": [
    "## Setting device state"
   ],
   "metadata": {
    "collapsed": false
   }
  },
  {
   "cell_type": "code",
   "execution_count": 13,
   "outputs": [
    {
     "name": "stderr",
     "output_type": "stream",
     "text": [
      "INFO:root:Calling _post on https://api-dev.boum.us/v1/auth/token...\n",
      "INFO:root:Request successful (201): Access token generated successfully\n",
      "INFO:root:Calling _patch on https://api-dev.boum.us/v1/devices/9a8a5e6d-12d5-4997-b9da-0bb446eacb2f...\n",
      "INFO:root:Request successful (200): Device is updated successfully\n",
      "INFO:root:Calling _get on https://api-dev.boum.us/v1/devices/9a8a5e6d-12d5-4997-b9da-0bb446eacb2f...\n",
      "INFO:root:Request successful (200): Device is retrieved successfully\n"
     ]
    },
    {
     "name": "stdout",
     "output_type": "stream",
     "text": [
      "DeviceStateModel(refill_time=datetime.time(0, 0),\n",
      "                 refill_interval=None,\n",
      "                 max_pump_duration=10,\n",
      "                 pump_state=False)\n",
      "DeviceStateModel(refill_time=datetime.time(2, 53),\n",
      "                 refill_interval=3,\n",
      "                 max_pump_duration=5,\n",
      "                 pump_state=True)\n"
     ]
    }
   ],
   "source": [
    "with client:\n",
    "    desired_state = DeviceStateModel(\n",
    "        pump_state=True,\n",
    "        refill_time=time(2, 53),\n",
    "        refill_interval=3,\n",
    "        max_pump_duration=5\n",
    "    )\n",
    "    device.set_desired_device_state(desired_state)\n",
    "    reported_state_out, desired_state_out = device.get_device_states()\n",
    "    pprint(reported_state_out)\n",
    "    pprint(desired_state_out)"
   ],
   "metadata": {
    "collapsed": false
   }
  },
  {
   "cell_type": "code",
   "execution_count": null,
   "outputs": [],
   "source": [],
   "metadata": {
    "collapsed": false
   }
  }
 ],
 "metadata": {
  "kernelspec": {
   "display_name": "Python 3",
   "language": "python",
   "name": "python3"
  },
  "language_info": {
   "codemirror_mode": {
    "name": "ipython",
    "version": 2
   },
   "file_extension": ".py",
   "mimetype": "text/x-python",
   "name": "python",
   "nbconvert_exporter": "python",
   "pygments_lexer": "ipython2",
   "version": "2.7.6"
  }
 },
 "nbformat": 4,
 "nbformat_minor": 0
}
